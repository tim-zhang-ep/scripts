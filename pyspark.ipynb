{
 "cells": [
  {
   "cell_type": "code",
   "execution_count": 4,
   "id": "a562b43d",
   "metadata": {},
   "outputs": [],
   "source": [
    "import findspark\n",
    "findspark.init()"
   ]
  },
  {
   "cell_type": "code",
   "execution_count": 11,
   "id": "4a4f2930",
   "metadata": {},
   "outputs": [],
   "source": [
    "import os\n",
    "os.environ['PYSPARK_SUBMIT_ARGS'] = \"\"\"\n",
    "--packages com.datastax.spark:spark-cassandra-connector_2.12:3.1.0 \\\n",
    "--conf spark.cassandra.connection.host=127.0.0.1 \\\n",
    "--conf spark.cassandra.connection.port=9042 \\\n",
    "pyspark-shell\n",
    "\"\"\""
   ]
  },
  {
   "cell_type": "code",
   "execution_count": 14,
   "id": "5cf59eeb",
   "metadata": {
    "scrolled": true
   },
   "outputs": [
    {
     "name": "stdout",
     "output_type": "stream",
     "text": [
      "+--------------------+-------+-----------+----------+----------+--------------------+\n",
      "|             voterid|   name|       city|     state|supporting|          voterstime|\n",
      "+--------------------+-------+-----------+----------+----------+--------------------+\n",
      "|9aba090b-1e7b-4ed...|  Peter|    Houston|     Texas|         A|2021-12-02 13:54:...|\n",
      "|33bb2e22-8347-48d...| Hollan|     Albany|  New York|         A|2021-12-02 13:54:...|\n",
      "|e398813a-fd44-47c...| Edward|      Miami|   Florida|         B|2021-12-02 13:54:...|\n",
      "|6f8b67fe-2f6c-48d...|   Bond|    Phoenix|   Arizona|         B|2021-12-02 13:54:...|\n",
      "|434bd0c9-20c6-48d...|Jackson|Los Angeles|California|         A|2021-12-02 13:54:...|\n",
      "+--------------------+-------+-----------+----------+----------+--------------------+\n",
      "\n"
     ]
    }
   ],
   "source": [
    "import pyspark\n",
    "from pyspark.sql import SparkSession\n",
    "\n",
    "spark = SparkSession.builder \\\n",
    ".master(\"local\") \\\n",
    ".appName(\"Spark Cassandra Integration\") \\\n",
    ".getOrCreate()\n",
    "\n",
    "df = spark.read \\\n",
    "    .format(\"org.apache.spark.sql.cassandra\") \\\n",
    "    .options(table='voters', keyspace='voting_system') \\\n",
    "    .load()\n",
    "\n",
    "df.show()"
   ]
  },
  {
   "cell_type": "code",
   "execution_count": null,
   "id": "3137b0da",
   "metadata": {},
   "outputs": [],
   "source": []
  }
 ],
 "metadata": {
  "kernelspec": {
   "display_name": "Python 3",
   "language": "python",
   "name": "python3"
  },
  "language_info": {
   "codemirror_mode": {
    "name": "ipython",
    "version": 3
   },
   "file_extension": ".py",
   "mimetype": "text/x-python",
   "name": "python",
   "nbconvert_exporter": "python",
   "pygments_lexer": "ipython3",
   "version": "3.8.8"
  }
 },
 "nbformat": 4,
 "nbformat_minor": 5
}
